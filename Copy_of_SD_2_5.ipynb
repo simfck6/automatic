{
  "cells": [
    {
      "cell_type": "markdown",
      "metadata": {
        "id": "view-in-github",
        "colab_type": "text"
      },
      "source": [
        "<a href=\"https://colab.research.google.com/github/simfck6/automatic/blob/master/Copy_of_SD_2_5.ipynb\" target=\"_parent\"><img src=\"https://colab.research.google.com/assets/colab-badge.svg\" alt=\"Open In Colab\"/></a>"
      ]
    },
    {
      "cell_type": "code",
      "execution_count": null,
      "metadata": {
        "cellView": "form",
        "colab": {
          "base_uri": "https://localhost:8080/"
        },
        "id": "G40osfVZyBSP",
        "outputId": "9b457deb-c09e-44cf-d0d4-1aaf6e65f369"
      },
      "outputs": [
        {
          "output_type": "stream",
          "name": "stdout",
          "text": [
            "Mounted at /content/gdrive\n"
          ]
        }
      ],
      "source": [
        "#@markdown #Step 1️⃣: Mounting Google Drive\n",
        "\n",
        "from google.colab import drive\n",
        "drive.mount('/content/gdrive')"
      ]
    },
    {
      "cell_type": "markdown",
      "metadata": {
        "id": "zwfV2aa-Y8ss"
      },
      "source": [
        "## <font color=\"#FFD700\">***ALTERNATIF V2.1***</font>"
      ]
    },
    {
      "cell_type": "code",
      "execution_count": null,
      "metadata": {
        "id": "caeYrAXcZCQv"
      },
      "outputs": [],
      "source": [
        "#@markdown INSTALL\n",
        "ubah  = {\n",
        "\n",
        "      0  : ( \"stable\"    )\n",
        "    , 1  : ( \"diffusion\" )\n",
        "    , 2  : ( \"webui\"     )\n",
        "    , 3  : ( \"sd\"        )\n",
        "    , 4  : ( \"Stable\"    )\n",
        "    , 5  : ( \"Diffusion\" )\n",
        "    , 6  : ( \"WebUI\"     )\n",
        "    , 7  : ( \"SD\"        )\n",
        "\n",
        "}\n",
        "#Import modul\n",
        "from   datetime        import datetime\n",
        "from   IPython.display import clear_output\n",
        "\n",
        "#Lokasi folder\n",
        "sd                = f\"{ubah[0]}-{ubah[1]}\"\n",
        "wui               = f\"{ubah[2]}\"\n",
        "sdwui             = f\"{sd}-{wui}\"\n",
        "basemodelpath     = f\"/content/automatic/models/Stable-diffusion\"\n",
        "vaepath           = f\"/content/automatic/models/VAE\"\n",
        "embeddingpath     = f\"/content/automatic/embeddings\"\n",
        "loramodelpath     = f\"/content/automatic/models/Lora\"\n",
        "rooppath          = f\"/content/automatic/models/roop\"\n",
        "contrlnetpath     = f\"/content/automatic/extensions/sd-{wui}-controlnet/models\"\n",
        "addnetworkpath    = f\"/content/automatic/extensions/sd-{wui}-additional-networks/models/lora\"\n",
        "esrganpath        = f\"/content/automatic/models/ESRGAN\"\n",
        "\n",
        "def isnumber(s):\n",
        "    try:\n",
        "        float(s)\n",
        "        return True\n",
        "    except ValueError:\n",
        "        return False\n",
        "\n",
        "%cd /content\n",
        "\n",
        "%env TF_CPP_MIN_LOG_LEVEL=1\n",
        "#install-ubuntu\n",
        "!apt -y update -qq\n",
        "!wget http://launchpadlibrarian.net/367274644/libgoogle-perftools-dev_2.5-2.2ubuntu3_amd64.deb\n",
        "!wget https://launchpad.net/ubuntu/+source/google-perftools/2.5-2.2ubuntu3/+build/14795286/+files/google-perftools_2.5-2.2ubuntu3_all.deb\n",
        "!wget https://launchpad.net/ubuntu/+source/google-perftools/2.5-2.2ubuntu3/+build/14795286/+files/libtcmalloc-minimal4_2.5-2.2ubuntu3_amd64.deb\n",
        "!wget https://launchpad.net/ubuntu/+source/google-perftools/2.5-2.2ubuntu3/+build/14795286/+files/libgoogle-perftools4_2.5-2.2ubuntu3_amd64.deb\n",
        "!apt install -qq libunwind8-dev\n",
        "!dpkg -i *.deb\n",
        "!apt -y install libjemalloc-dev\n",
        "%env LD_PRELOAD=/usr/lib/x86_64-linux-gnu/libjemalloc.so.2\n",
        "!rm *.deb\n",
        "##install pytorch\n",
        "!apt -y install -qq aria2 libcairo2-dev pkg-config python3-dev\n",
        "!pip install -q torch==2.0.1+cu118 torchvision==0.15.2+cu118 torchaudio==2.0.2+cu118 torchtext==0.15.2 torchdata==0.6.1 --extra-index-url https://download.pytorch.org/whl/cu118 -U\n",
        "!pip install -q xformers==0.0.20 triton==2.0.0 gradio_client==0.2.7 -U\n",
        "!pip install -q insightface==0.7.3\n",
        "\n",
        "%cd /content\n",
        "#install-stablediffusion\n",
        "!git clone -b v2.5 https://github.com/simfck6/automatic /content/automatic\n",
        "!wget https://raw.githubusercontent.com/camenduru/$sdwui-scripts/main/run_n_times.py -O /content/automatic/scripts/run_n_times.py\n",
        "!git clone https://github.com/KohakuBlueleaf/a1111-sd-$wui-lycoris /content/automatic/extensions/a1111-sd-$wui-lycoris\n",
        "#install-bahan-dasar\n",
        "!git clone https://github.com/vorstcavry/lora /content/automatic/models/Lora\n",
        "!git clone https://github.com/vorstcavry/embeddings /content/automatic/embeddings\n",
        "#install-upscale\n",
        "!aria2c --console-log-level=error -c -x 16 -s 16 -k 1M https://huggingface.co/embed/upscale/resolve/main/4x-UltraSharp.pth -d /content/automatic/models/ESRGAN -o 4x-UltraSharp.pth\n",
        "!aria2c --console-log-level=error -c -x 16 -s 16 -k 1M https://huggingface.co/uwg/upscaler/resolve/main/ESRGAN/4x_NMKD-Superscale-SP_178000_G.pth -d /content/automatic/models/ESRGAN -o 4x_NMKD-Superscale-SP_178000_G.pth\n",
        "!aria2c --console-log-level=error -c -x 16 -s 16 -k 1M https://huggingface.co/uwg/upscaler/resolve/main/ESRGAN/8x_NMKD-Superscale_150000_G.pth -d /content/automatic/models/ESRGAN -o 8x_NMKD-Superscale_150000_G.pth\n",
        "\n",
        "#install-ekstension\n",
        "%cd /content/automatic/extensions\n",
        "!git clone https://github.com/Klace/$sdwui-images-browser\n",
        "!git clone https://github.com/Iyashinouta/sd-model-downloader\n",
        "!git clone https://github.com/camenduru/sd-civitai-browser\n",
        "!git clone https://github.com/camenduru/sd-$wui-additional-networks\n",
        "!git clone https://github.com/Mikubill/sd-$wui-controlnet\n",
        "!git clone https://github.com/fkunn1326/openpose-editor\n",
        "!git clone https://github.com/jexom/sd-$wui-depth-lib\n",
        "!git clone https://github.com/hnmr293/posex\n",
        "!git clone https://github.com/s0md3v/sd-$wui-roop\n",
        "!git clone https://github.com/DominikDoom/a1111-sd-$wui-tagcomplete\n",
        "!git clone https://github.com/etherealxx/batchlinks-$wui\n",
        "!git clone https://github.com/camenduru/$sdwui-catppuccin\n",
        "!git clone https://github.com/AUTOMATIC1111/$sdwui-rembg\n",
        "!git clone https://github.com/camenduru/sd_$wui_stealth_pnginfo\n",
        "!git clone https://github.com/thomasasfk/sd-$wui-aspect-ratio-helper\n",
        "!git clone https://github.com/tjm35/asymmetric-tiling-sd-$wui\n",
        "!git clone https://github.com/Coyote-A/ultimate-upscale-for-automatic1111\n",
        "!git clone https://github.com/Bing-su/adetailer\n",
        "!git clone https://github.com/camenduru/sd-$wui-tunnels\n",
        "\n",
        "%cd /content/automatic\n",
        "!git reset --hard\n",
        "!git -C /content/automatic/repositories/$sd-stability-ai reset --hard\n",
        "%cd /content/automatic\n",
        "\n",
        "\n",
        "#install-controlnet\n",
        "!aria2c --console-log-level=error -c -x 16 -s 16 -k 1M https://huggingface.co/lllyasviel/ControlNet-v1-1/resolve/main/control_v11f1e_sd15_tile.pth -d /content/automatic/extensions/sd-$wui-controlnet/models -o control_v11f1e_sd15_tile.pth\n",
        "#install-vae-untuk-model-checkpoint-yang-akan-dipakai\n",
        "!aria2c --console-log-level=error -c -x 16 -s 16 -k 1M https://huggingface.co/stabilityai/sd-vae-ft-mse-original/resolve/main/vae-ft-mse-840000-ema-pruned.ckpt -d $vaepath -o vae-ft-mse-840000-ema-pruned.ckpt\n",
        "!aria2c --console-log-level=error -c -x 16 -s 16 -k 1M https://huggingface.co/vorstcavry/vaecollection1/resolve/main/kl-f8-anime.ckpt -d $vaepath -o kl-f8-anime.ckpt\n",
        "!aria2c --console-log-level=error -c -x 16 -s 16 -k 1M https://huggingface.co/vorstcavry/vaecollection1/resolve/main/pastel-waifu-diffusion.vae.pt -d $vaepath -o pastel-waifu-diffusion.vae.pt\n",
        "\n",
        "#install-lora\n",
        "!aria2c --console-log-level=error -c -x 16 -s 16 -k 1M https://huggingface.co/vorstcavry/loraasia/resolve/main/japaneseDollLikeness_v15.safetensors -d /content/automatic/models/Lora/Lora-set -o japaneseDollLikeness_v15.safetensors\n",
        "!aria2c --console-log-level=error -c -x 16 -s 16 -k 1M https://huggingface.co/vorstcavry/loraasia/resolve/main/koreanDollLikeness_v20.safetensors -d /content/automatic/models/Lora/Lora-set -o koreanDollLikeness_v20.safetensors\n",
        "!aria2c --console-log-level=error -c -x 16 -s 16 -k 1M https://huggingface.co/vorstcavry/loraasia/resolve/main/taiwanDollLikeness_v15.safetensors -d /content/automatic/models/Lora/Lora-set -o taiwanDollLikeness_v15.safetensors\n",
        "\n",
        "#Install-roop\n",
        "!aria2c --console-log-level=error -c -x 16 -s 16 -k 1M https://huggingface.co/ezioruan/inswapper_128.onnx/resolve/main/inswapper_128.onnx -d  /content/automatic/models/roop -o inswapper_128.onnx\n",
        "\n",
        "!aria2c --console-log-level=error -c -x 16 -s 16 -k 1M --input-file models.txt -d $basemodelpath\n",
        "!rm -rf /content/models.txt\n",
        "\n",
        "import os\n",
        "path='/content/automatic/tmp'\n",
        "os.makedirs(path)\n",
        "with open('/content/automatic/tmp/tagAutocompletePath.txt', 'x') as f:\n",
        "    f.write('/content/automatic/extensions/a1111-sd-webui-tagcomplete/tags')\n",
        "\n",
        "token_ngrok = \"\"  # @param {'type': 'string'}\n",
        "\n",
        "#Menjalankan web\n",
        "%cd /content/automatic\n",
        "\n",
        "!sed -i -e '''/from modules import launch_utils/a\\import os''' /content/automatic/launch.py\n",
        "!sed -i -e '''/        prepare_environment()/a\\        os.system\\(f\\\"\"\"sed -i -e ''\\\"s/dict()))/dict())).cuda()/g\\\"'' /content/automatic/repositories/stable-diffusion-stability-ai/ldm/util.py\"\"\")''' /content/automatic/launch.py\n",
        "!sed -i -e 's/\\[\"sd_model_checkpoint\"\\]/\\[\"sd_model_checkpoint\",\"sd_vae\",\"CLIP_stop_at_last_layers\"\\]/g' /content/automatic/modules/shared.py\n",
        "\n",
        "!python launch.py --listen --xformers --enable-insecure-extension-access --theme dark --gradio-queue --share --ngrok token_ngrok"
      ]
    },
    {
      "cell_type": "code",
      "execution_count": null,
      "metadata": {
        "id": "rU07eHsuBlIA"
      },
      "outputs": [],
      "source": [
        "#@title\n",
        "#@markdown Menjalankan ulang web\n",
        "\n",
        "%cd /content/vorst-cavry\n",
        "token_ngrok = \"\"  # @param {'type': 'string'}\n",
        "!python launch.py --listen --xformers --enable-insecure-extension-access --theme dark --gradio-queue --share --ngrok token_ngrok"
      ]
    },
    {
      "cell_type": "code",
      "execution_count": null,
      "metadata": {
        "id": "OYjWT48NxbA4"
      },
      "outputs": [],
      "source": [
        "#@markdown copy lora\n",
        "!cp -r /content/gdrive/MyDrive/lora /content/vorst-cavry/models/Lora"
      ]
    }
  ],
  "metadata": {
    "accelerator": "GPU",
    "colab": {
      "provenance": [],
      "include_colab_link": true
    },
    "kernelspec": {
      "display_name": "Python 3",
      "name": "python3"
    },
    "language_info": {
      "name": "python"
    }
  },
  "nbformat": 4,
  "nbformat_minor": 0
}