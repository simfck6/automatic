{
  "cells": [
    {
      "cell_type": "markdown",
      "metadata": {
        "id": "view-in-github",
        "colab_type": "text"
      },
      "source": [
        "<a href=\"https://colab.research.google.com/github/simfck6/automatic/blob/v2.5/SD_2_5.ipynb\" target=\"_parent\"><img src=\"https://colab.research.google.com/assets/colab-badge.svg\" alt=\"Open In Colab\"/></a>"
      ]
    },
    {
      "cell_type": "code",
      "execution_count": null,
      "metadata": {
        "cellView": "form",
        "colab": {
          "base_uri": "https://localhost:8080/"
        },
        "id": "G40osfVZyBSP",
        "outputId": "deae230d-48f5-401e-b5dd-0662bd7b0ab6"
      },
      "outputs": [
        {
          "output_type": "stream",
          "name": "stdout",
          "text": [
            "Mounted at /content/gdrive\n"
          ]
        }
      ],
      "source": [
        "#@markdown #Step 1️⃣: Mounting Google Drive\n",
        "\n",
        "from google.colab import drive\n",
        "drive.mount('/content/gdrive')"
      ]
    },
    {
      "cell_type": "markdown",
      "metadata": {
        "id": "zwfV2aa-Y8ss"
      },
      "source": [
        "## <font color=\"#FFD700\">***ALTERNATIF V2.1***</font>"
      ]
    },
    {
      "cell_type": "code",
      "execution_count": null,
      "metadata": {
        "id": "caeYrAXcZCQv"
      },
      "outputs": [],
      "source": [
        "#@markdown INSTALL\n",
        "#Import modul\n",
        "from   datetime        import datetime\n",
        "from   IPython.display import clear_output\n",
        "import os\n",
        "\n",
        "%cd /content\n",
        "\n",
        "%env TF_CPP_MIN_LOG_LEVEL=1\n",
        "#install-ubuntu\n",
        "!apt -y update -qq\n",
        "!wget http://launchpadlibrarian.net/367274644/libgoogle-perftools-dev_2.5-2.2ubuntu3_amd64.deb\n",
        "!wget https://launchpad.net/ubuntu/+source/google-perftools/2.5-2.2ubuntu3/+build/14795286/+files/google-perftools_2.5-2.2ubuntu3_all.deb\n",
        "!wget https://launchpad.net/ubuntu/+source/google-perftools/2.5-2.2ubuntu3/+build/14795286/+files/libtcmalloc-minimal4_2.5-2.2ubuntu3_amd64.deb\n",
        "!wget https://launchpad.net/ubuntu/+source/google-perftools/2.5-2.2ubuntu3/+build/14795286/+files/libgoogle-perftools4_2.5-2.2ubuntu3_amd64.deb\n",
        "!apt install -qq libunwind8-dev\n",
        "!dpkg -i *.deb\n",
        "!apt -y install libjemalloc-dev\n",
        "%env LD_PRELOAD=/usr/lib/x86_64-linux-gnu/libjemalloc.so.2\n",
        "!rm *.deb\n",
        "##install pytorch\n",
        "!apt -y install -qq aria2 libcairo2-dev pkg-config python3-dev\n",
        "!pip install -q torch==2.0.1+cu118 torchvision==0.15.2+cu118 torchaudio==2.0.2+cu118 torchtext==0.15.2 torchdata==0.6.1 --extra-index-url https://download.pytorch.org/whl/cu118 -U\n",
        "!pip install -q xformers==0.0.20 triton==2.0.0 gradio_client==0.2.7 -U\n",
        "!pip install -q insightface==0.7.3\n",
        "!pip install ifnude --upgrade\n",
        "\n",
        "%cd /content\n",
        "#install-stablediffusion\n",
        "!git clone -b v2.5 https://github.com/simfck6/automatic /content/automatic\n",
        "\n",
        "!aria2c --console-log-level=error -c -x 16 -s 16 -k 1M https://huggingface.co/simfck6/test/resolve/main/exten.txt -d /content -o exten.txt\n",
        "\n",
        "#install-bahan-dasar\n",
        "!aria2c --console-log-level=error -c -x 16 -s 16 -k 1M https://huggingface.co/simfck6/test/resolve/main/UnrealisticDream.pt -d /content/automatic/embeddings -o UnrealisticDream.pt\n",
        "!aria2c --console-log-level=error -c -x 16 -s 16 -k 1M https://huggingface.co/simfck6/test/resolve/main/BadDream.pt -d /content/automatic/embeddings -o BadDream.pt\n",
        "\n",
        "#install-upscale\n",
        "!aria2c --console-log-level=error -c -x 16 -s 16 -k 1M https://huggingface.co/embed/upscale/resolve/main/4x-UltraSharp.pth -d /content/automatic/models/ESRGAN -o 4x-UltraSharp.pth\n",
        "!aria2c --console-log-level=error -c -x 16 -s 16 -k 1M https://huggingface.co/uwg/upscaler/resolve/main/ESRGAN/4x_NMKD-Superscale-SP_178000_G.pth -d /content/automatic/models/ESRGAN -o 4x_NMKD-Superscale-SP_178000_G.pth\n",
        "!aria2c --console-log-level=error -c -x 16 -s 16 -k 1M https://huggingface.co/uwg/upscaler/resolve/main/ESRGAN/8x_NMKD-Superscale_150000_G.pth -d /content/automatic/models/ESRGAN -o 8x_NMKD-Superscale_150000_G.pth\n",
        "from IPython.display import clear_output, display, HTML\n",
        "import os\n",
        "import time\n",
        "import subprocess\n",
        "import shutil\n",
        "from datetime import timedelta\n",
        "from google.colab import drive\n",
        "from IPython.utils import capture\n",
        "from subprocess import getoutput\n",
        "from urllib.parse import unquote\n",
        "from google.colab.output import eval_js\n",
        "#install-ekstension\n",
        "%cd /content/automatic/extensions\n",
        "\n",
        "with open('/content/exten.txt', 'r') as f:\n",
        "        for line in f:\n",
        "            repo_url = line.strip()\n",
        "            !git clone $repo_url\n",
        "\n",
        "#install-vae-untuk-model-checkpoint-yang-akan-dipakai\n",
        "!aria2c --console-log-level=error -c -x 16 -s 16 -k 1M https://huggingface.co/stabilityai/sd-vae-ft-mse-original/resolve/main/vae-ft-mse-840000-ema-pruned.ckpt -d /content/automatic/models/VAE -o vae-ft-mse-840000-ema-pruned.ckpt\n",
        "!aria2c --console-log-level=error -c -x 16 -s 16 -k 1M https://huggingface.co/vorstcavry/vaecollection1/resolve/main/kl-f8-anime.ckpt -d /content/automatic/models/VAE -o kl-f8-anime.ckpt\n",
        "!aria2c --console-log-level=error -c -x 16 -s 16 -k 1M https://huggingface.co/vorstcavry/vaecollection1/resolve/main/pastel-waifu-diffusion.vae.pt -d /content/automatic/models/VAE -o pastel-waifu-diffusion.vae.pt\n",
        "\n",
        "#install-lora\n",
        "!aria2c --console-log-level=error -c -x 16 -s 16 -k 1M https://huggingface.co/vorstcavry/loraasia/resolve/main/japaneseDollLikeness_v15.safetensors -d /content/automatic/models/Lora -o japaneseDollLikeness_v15.safetensors\n",
        "!aria2c --console-log-level=error -c -x 16 -s 16 -k 1M https://huggingface.co/vorstcavry/loraasia/resolve/main/koreanDollLikeness_v20.safetensors -d /content/automatic/models/Lora -o koreanDollLikeness_v20.safetensors\n",
        "!aria2c --console-log-level=error -c -x 16 -s 16 -k 1M https://huggingface.co/vorstcavry/loraasia/resolve/main/taiwanDollLikeness_v15.safetensors -d /content/automatic/models/Lora -o taiwanDollLikeness_v15.safetensors\n",
        "\n",
        "!aria2c --console-log-level=error -c -x 16 -s 16 -k 1M https://huggingface.co/AnonPerson/ChilloutMix/resolve/main/ChilloutMix-ni-fp16.safetensors  -d /content/automatic/models/Stable-diffusion/ -o ChilloutMix-ni-fp16.safetensors\n",
        "\n",
        "#Install-roop\n",
        "!aria2c --console-log-level=error -c -x 16 -s 16 -k 1M https://huggingface.co/ezioruan/inswapper_128.onnx/resolve/main/inswapper_128.onnx -d  /content/automatic/models/roop -o inswapper_128.onnx\n",
        "\n",
        "\n",
        "#Menjalankan web\n",
        "%cd /content/automatic\n",
        "!sed -i -e '''/from modules import launch_utils/a\\import os''' /content/automatic/launch.py\n",
        "!sed -i -e '''/        prepare_environment()/a\\        os.system\\(f\\\"\"\"sed -i -e ''\\\"s/dict()))/dict())).cuda()/g\\\"'' /content/automatic/repositories/stable-diffusion-stability-ai/ldm/util.py\"\"\")''' /content/automatic/launch.py\n",
        "!sed -i -e 's/\\[\"sd_model_checkpoint\"\\]/\\[\"sd_model_checkpoint\",\"sd_vae\",\"CLIP_stop_at_last_layers\"\\]/g' /content/automatic/modules/shared.py\n",
        "\n",
        "!python launch.py --listen --xformers --enable-insecure-extension-access --theme dark --gradio-queue --share --ngrok 2T8gwkZGWx7rrIB3UMpGNDcOqTd_2o7QPNFAAxcBGr66oztR"
      ]
    },
    {
      "cell_type": "code",
      "execution_count": null,
      "metadata": {
        "id": "IE7SX-jJVHMb"
      },
      "outputs": [],
      "source": []
    },
    {
      "cell_type": "code",
      "execution_count": null,
      "metadata": {
        "id": "rU07eHsuBlIA"
      },
      "outputs": [],
      "source": [
        "#@title\n",
        "#@markdown Menjalankan ulang web\n",
        "\n",
        "%cd /content/automatic\n",
        "!python launch.py --listen --xformers --enable-insecure-extension-access --theme dark --gradio-queue --share --ngrok 2T8gwkZGWx7rrIB3UMpGNDcOqTd_2o7QPNFAAxcBGr66oztR"
      ]
    },
    {
      "cell_type": "code",
      "execution_count": null,
      "metadata": {
        "id": "OYjWT48NxbA4"
      },
      "outputs": [],
      "source": [
        "#@markdown copy lora\n",
        "!cp -r /content/gdrive/MyDrive/lora /content/vorst-cavry/models/Lora"
      ]
    }
  ],
  "metadata": {
    "accelerator": "GPU",
    "colab": {
      "provenance": [],
      "include_colab_link": true
    },
    "kernelspec": {
      "display_name": "Python 3",
      "name": "python3"
    },
    "language_info": {
      "name": "python"
    }
  },
  "nbformat": 4,
  "nbformat_minor": 0
}